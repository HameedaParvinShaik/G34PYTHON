{
 "cells": [
  {
   "cell_type": "markdown",
   "id": "a79c91de",
   "metadata": {},
   "source": [
    "##22 APRIL CLASS TEST (HAMEEDA PARVIN)"
   ]
  },
  {
   "cell_type": "code",
   "execution_count": 1,
   "id": "61df1a4f",
   "metadata": {},
   "outputs": [],
   "source": [
    "def count_vow(Str):\n",
    "    vowels=\"aeiou\"\n",
    "    Str=Str.lower()\n",
    "    vowel_count={}\n",
    "    for char in Str:\n",
    "        if char in vowels:\n",
    "            if char in vowel_count:\n",
    "                vowel_count[char]+=1\n",
    "            else:\n",
    "                vowel_count[char]=1\n",
    "    return vowel_count\n",
    " "
   ]
  },
  {
   "cell_type": "code",
   "execution_count": 2,
   "id": "8baf9ba2",
   "metadata": {},
   "outputs": [
    {
     "name": "stdout",
     "output_type": "stream",
     "text": [
      "{'i': 3, 'o': 1, 'e': 1, 'a': 1}\n"
     ]
    }
   ],
   "source": [
    "Sentence=\"I love India\"\n",
    "print(count_vow(Sentence))"
   ]
  },
  {
   "cell_type": "code",
   "execution_count": 3,
   "id": "392174af",
   "metadata": {},
   "outputs": [],
   "source": [
    "def Palin(number):\n",
    "    return str(number) == str(number)[::-1]"
   ]
  },
  {
   "cell_type": "code",
   "execution_count": 9,
   "id": "b23f745f",
   "metadata": {},
   "outputs": [],
   "source": [
    "def Palind(num1, num2):\n",
    "    for i in range(num1, num2 + 1):\n",
    "        if Palin(i):\n",
    "            print(i, end=' ')\n"
   ]
  },
  {
   "cell_type": "code",
   "execution_count": 11,
   "id": "7e3459ad",
   "metadata": {},
   "outputs": [
    {
     "name": "stdout",
     "output_type": "stream",
     "text": [
      "101 111 121 131 141 "
     ]
    }
   ],
   "source": [
    "Palind(100,150)"
   ]
  },
  {
   "cell_type": "code",
   "execution_count": 14,
   "id": "6be10723",
   "metadata": {},
   "outputs": [],
   "source": [
    "import csv\n",
    "class Employee:\n",
    "    def __init__(self,emp_id,name,salary):\n",
    "        self.emp_id=emp_id\n",
    "        self.name=name\n",
    "        self.salary=salary\n",
    "    def display(self):\n",
    "       print(f\"ID: {self.emp_id}, Name: {self.name}, Salary: {self.salary}\")\n",
    "    def write_csv(self, filename=\"employee_data.txt\"):\n",
    "        with open(filename,mode='a',newline='') as file:\n",
    "            writer=csv.writer(file)\n",
    "            writer.writerow([self.emp_id, self.name, self.salary])\n",
    "    def read_file(filename=\"employee_data.txt\"):\n",
    "        with open(filename, mode='r') as file:\n",
    "            reader = csv.reader(file)\n",
    "            for row in reader:\n",
    "                print(f\"ID: {row[0]}, Name: {row[1]}, Salary: {row[2]}\")\n"
   ]
  },
  {
   "cell_type": "code",
   "execution_count": 16,
   "id": "5f26b2af",
   "metadata": {},
   "outputs": [
    {
     "name": "stdout",
     "output_type": "stream",
     "text": [
      "ID: Id1, Name: Hameeda, Salary: 100000\n"
     ]
    },
    {
     "data": {
      "text/plain": [
       "<bound method Employee.read_file of <__main__.Employee object at 0x00000177A18F7200>>"
      ]
     },
     "execution_count": 16,
     "metadata": {},
     "output_type": "execute_result"
    }
   ],
   "source": [
    "emp1=Employee(\"Id1\",\"Hameeda\",100000)\n",
    "emp1.display()\n",
    "emp1.write_csv()\n",
    "emp1.read_file"
   ]
  },
  {
   "cell_type": "code",
   "execution_count": 35,
   "id": "bd0a7d37",
   "metadata": {},
   "outputs": [
    {
     "name": "stdout",
     "output_type": "stream",
     "text": [
      "Number of error lines: 4\n"
     ]
    }
   ],
   "source": [
    "class LogAnalyzer:\n",
    "    def __init__(self, filename=\"C:\\\\Users\\\\DELL\\\\OneDrive\\\\Desktop\\\\Log.txt\"):\n",
    "        self.filename = filename\n",
    "\n",
    "    def count_errors(self):\n",
    "        count = 0\n",
    "        with open(self.filename, 'r') as file:\n",
    "            for line in file:\n",
    "                if \"error\" in line.lower():\n",
    "                    count += 1\n",
    "        print(f\"Number of error lines: {count}\")\n",
    "\n",
    "\n",
    "analyzer = LogAnalyzer()\n",
    "analyzer.count_errors()\n"
   ]
  }
 ],
 "metadata": {
  "kernelspec": {
   "display_name": "Python 3",
   "language": "python",
   "name": "python3"
  },
  "language_info": {
   "codemirror_mode": {
    "name": "ipython",
    "version": 3
   },
   "file_extension": ".py",
   "mimetype": "text/x-python",
   "name": "python",
   "nbconvert_exporter": "python",
   "pygments_lexer": "ipython3",
   "version": "3.12.8"
  }
 },
 "nbformat": 4,
 "nbformat_minor": 5
}
