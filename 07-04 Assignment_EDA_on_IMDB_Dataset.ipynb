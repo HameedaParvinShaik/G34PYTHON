{
 "cells": [
  {
   "cell_type": "markdown",
   "metadata": {
    "id": "3_Fv7J8jTBlu"
   },
   "source": [
    "## You have been hired by a rookie movie producer to help him decide what type of movies to produce and which actors to cast. You have to back your recommendations based on thorough analysis of the data he shared with you which has the list of 3000 movies and the corresponding details.\n",
    "\n",
    "## As a data scientist, you have to first explore the data and check its sanity.\n",
    "\n",
    "## Further, you have to answer the following questions:\n",
    "1. ### <b>  </b>\n",
    "\n",
    "Which movie made the highest profit? Who were its producer and director? Identify the actors in that film.</b>\n",
    "2. ### <b>This data has information about movies made in different languages. Which language has the highest average ROI (return on investment)? </b>\n",
    "3. ### <b> Find out the unique genres of movies in this dataset.</b>\n",
    "4. ### <b> Make a table of all the producers and directors of each movie. Find the top 3 producers who have produced movies with the highest average RoI? </b>\n",
    "5. ### <b> Which actor has acted in the most number of movies? Deep dive into the movies, genres and profits corresponding to this actor. </b>\n",
    "6. ### <b>Top 3 directors prefer which actors the most?"
   ]
  },
  {
   "cell_type": "markdown",
   "metadata": {
    "id": "Fx8CVjtZW_BF"
   },
   "source": [
    "# Data Exploration"
   ]
  },
  {
   "cell_type": "code",
   "execution_count": 10,
   "metadata": {
    "id": "vq7iMfybnKNP"
   },
   "outputs": [
    {
     "data": {
      "text/html": [
       "<div>\n",
       "<style scoped>\n",
       "    .dataframe tbody tr th:only-of-type {\n",
       "        vertical-align: middle;\n",
       "    }\n",
       "\n",
       "    .dataframe tbody tr th {\n",
       "        vertical-align: top;\n",
       "    }\n",
       "\n",
       "    .dataframe thead th {\n",
       "        text-align: right;\n",
       "    }\n",
       "</style>\n",
       "<table border=\"1\" class=\"dataframe\">\n",
       "  <thead>\n",
       "    <tr style=\"text-align: right;\">\n",
       "      <th></th>\n",
       "      <th>id</th>\n",
       "      <th>belongs_to_collection</th>\n",
       "      <th>budget</th>\n",
       "      <th>genres</th>\n",
       "      <th>homepage</th>\n",
       "      <th>imdb_id</th>\n",
       "      <th>original_language</th>\n",
       "      <th>original_title</th>\n",
       "      <th>overview</th>\n",
       "      <th>popularity</th>\n",
       "      <th>...</th>\n",
       "      <th>release_date</th>\n",
       "      <th>runtime</th>\n",
       "      <th>spoken_languages</th>\n",
       "      <th>status</th>\n",
       "      <th>tagline</th>\n",
       "      <th>title</th>\n",
       "      <th>Keywords</th>\n",
       "      <th>cast</th>\n",
       "      <th>crew</th>\n",
       "      <th>revenue</th>\n",
       "    </tr>\n",
       "  </thead>\n",
       "  <tbody>\n",
       "    <tr>\n",
       "      <th>0</th>\n",
       "      <td>1</td>\n",
       "      <td>[{'id': 313576, 'name': 'Hot Tub Time Machine ...</td>\n",
       "      <td>14000000</td>\n",
       "      <td>[{'id': 35, 'name': 'Comedy'}]</td>\n",
       "      <td>NaN</td>\n",
       "      <td>tt2637294</td>\n",
       "      <td>en</td>\n",
       "      <td>Hot Tub Time Machine 2</td>\n",
       "      <td>When Lou, who has become the \"father of the In...</td>\n",
       "      <td>6.575393</td>\n",
       "      <td>...</td>\n",
       "      <td>2/20/15</td>\n",
       "      <td>93.0</td>\n",
       "      <td>[{'iso_639_1': 'en', 'name': 'English'}]</td>\n",
       "      <td>Released</td>\n",
       "      <td>The Laws of Space and Time are About to be Vio...</td>\n",
       "      <td>Hot Tub Time Machine 2</td>\n",
       "      <td>[{'id': 4379, 'name': 'time travel'}, {'id': 9...</td>\n",
       "      <td>[{'cast_id': 4, 'character': 'Lou', 'credit_id...</td>\n",
       "      <td>[{'credit_id': '59ac067c92514107af02c8c8', 'de...</td>\n",
       "      <td>12314651</td>\n",
       "    </tr>\n",
       "    <tr>\n",
       "      <th>1</th>\n",
       "      <td>2</td>\n",
       "      <td>[{'id': 107674, 'name': 'The Princess Diaries ...</td>\n",
       "      <td>40000000</td>\n",
       "      <td>[{'id': 35, 'name': 'Comedy'}, {'id': 18, 'nam...</td>\n",
       "      <td>NaN</td>\n",
       "      <td>tt0368933</td>\n",
       "      <td>en</td>\n",
       "      <td>The Princess Diaries 2: Royal Engagement</td>\n",
       "      <td>Mia Thermopolis is now a college graduate and ...</td>\n",
       "      <td>8.248895</td>\n",
       "      <td>...</td>\n",
       "      <td>8/6/04</td>\n",
       "      <td>113.0</td>\n",
       "      <td>[{'iso_639_1': 'en', 'name': 'English'}]</td>\n",
       "      <td>Released</td>\n",
       "      <td>It can take a lifetime to find true love; she'...</td>\n",
       "      <td>The Princess Diaries 2: Royal Engagement</td>\n",
       "      <td>[{'id': 2505, 'name': 'coronation'}, {'id': 42...</td>\n",
       "      <td>[{'cast_id': 1, 'character': 'Mia Thermopolis'...</td>\n",
       "      <td>[{'credit_id': '52fe43fe9251416c7502563d', 'de...</td>\n",
       "      <td>95149435</td>\n",
       "    </tr>\n",
       "    <tr>\n",
       "      <th>2</th>\n",
       "      <td>3</td>\n",
       "      <td>NaN</td>\n",
       "      <td>3300000</td>\n",
       "      <td>[{'id': 18, 'name': 'Drama'}]</td>\n",
       "      <td>http://sonyclassics.com/whiplash/</td>\n",
       "      <td>tt2582802</td>\n",
       "      <td>en</td>\n",
       "      <td>Whiplash</td>\n",
       "      <td>Under the direction of a ruthless instructor, ...</td>\n",
       "      <td>64.299990</td>\n",
       "      <td>...</td>\n",
       "      <td>10/10/14</td>\n",
       "      <td>105.0</td>\n",
       "      <td>[{'iso_639_1': 'en', 'name': 'English'}]</td>\n",
       "      <td>Released</td>\n",
       "      <td>The road to greatness can take you to the edge.</td>\n",
       "      <td>Whiplash</td>\n",
       "      <td>[{'id': 1416, 'name': 'jazz'}, {'id': 1523, 'n...</td>\n",
       "      <td>[{'cast_id': 5, 'character': 'Andrew Neimann',...</td>\n",
       "      <td>[{'credit_id': '54d5356ec3a3683ba0000039', 'de...</td>\n",
       "      <td>13092000</td>\n",
       "    </tr>\n",
       "    <tr>\n",
       "      <th>3</th>\n",
       "      <td>4</td>\n",
       "      <td>NaN</td>\n",
       "      <td>1200000</td>\n",
       "      <td>[{'id': 53, 'name': 'Thriller'}, {'id': 18, 'n...</td>\n",
       "      <td>http://kahaanithefilm.com/</td>\n",
       "      <td>tt1821480</td>\n",
       "      <td>hi</td>\n",
       "      <td>Kahaani</td>\n",
       "      <td>Vidya Bagchi (Vidya Balan) arrives in Kolkata ...</td>\n",
       "      <td>3.174936</td>\n",
       "      <td>...</td>\n",
       "      <td>3/9/12</td>\n",
       "      <td>122.0</td>\n",
       "      <td>[{'iso_639_1': 'en', 'name': 'English'}, {'iso...</td>\n",
       "      <td>Released</td>\n",
       "      <td>NaN</td>\n",
       "      <td>Kahaani</td>\n",
       "      <td>[{'id': 10092, 'name': 'mystery'}, {'id': 1054...</td>\n",
       "      <td>[{'cast_id': 1, 'character': 'Vidya Bagchi', '...</td>\n",
       "      <td>[{'credit_id': '52fe48779251416c9108d6eb', 'de...</td>\n",
       "      <td>16000000</td>\n",
       "    </tr>\n",
       "    <tr>\n",
       "      <th>4</th>\n",
       "      <td>5</td>\n",
       "      <td>NaN</td>\n",
       "      <td>0</td>\n",
       "      <td>[{'id': 28, 'name': 'Action'}, {'id': 53, 'nam...</td>\n",
       "      <td>NaN</td>\n",
       "      <td>tt1380152</td>\n",
       "      <td>ko</td>\n",
       "      <td>마린보이</td>\n",
       "      <td>Marine Boy is the story of a former national s...</td>\n",
       "      <td>1.148070</td>\n",
       "      <td>...</td>\n",
       "      <td>2/5/09</td>\n",
       "      <td>118.0</td>\n",
       "      <td>[{'iso_639_1': 'ko', 'name': '한국어/조선말'}]</td>\n",
       "      <td>Released</td>\n",
       "      <td>NaN</td>\n",
       "      <td>Marine Boy</td>\n",
       "      <td>NaN</td>\n",
       "      <td>[{'cast_id': 3, 'character': 'Chun-soo', 'cred...</td>\n",
       "      <td>[{'credit_id': '52fe464b9251416c75073b43', 'de...</td>\n",
       "      <td>3923970</td>\n",
       "    </tr>\n",
       "  </tbody>\n",
       "</table>\n",
       "<p>5 rows × 23 columns</p>\n",
       "</div>"
      ],
      "text/plain": [
       "   id                              belongs_to_collection    budget  \\\n",
       "0   1  [{'id': 313576, 'name': 'Hot Tub Time Machine ...  14000000   \n",
       "1   2  [{'id': 107674, 'name': 'The Princess Diaries ...  40000000   \n",
       "2   3                                                NaN   3300000   \n",
       "3   4                                                NaN   1200000   \n",
       "4   5                                                NaN         0   \n",
       "\n",
       "                                              genres  \\\n",
       "0                     [{'id': 35, 'name': 'Comedy'}]   \n",
       "1  [{'id': 35, 'name': 'Comedy'}, {'id': 18, 'nam...   \n",
       "2                      [{'id': 18, 'name': 'Drama'}]   \n",
       "3  [{'id': 53, 'name': 'Thriller'}, {'id': 18, 'n...   \n",
       "4  [{'id': 28, 'name': 'Action'}, {'id': 53, 'nam...   \n",
       "\n",
       "                            homepage    imdb_id original_language  \\\n",
       "0                                NaN  tt2637294                en   \n",
       "1                                NaN  tt0368933                en   \n",
       "2  http://sonyclassics.com/whiplash/  tt2582802                en   \n",
       "3         http://kahaanithefilm.com/  tt1821480                hi   \n",
       "4                                NaN  tt1380152                ko   \n",
       "\n",
       "                             original_title  \\\n",
       "0                    Hot Tub Time Machine 2   \n",
       "1  The Princess Diaries 2: Royal Engagement   \n",
       "2                                  Whiplash   \n",
       "3                                   Kahaani   \n",
       "4                                      마린보이   \n",
       "\n",
       "                                            overview  popularity  ...  \\\n",
       "0  When Lou, who has become the \"father of the In...    6.575393  ...   \n",
       "1  Mia Thermopolis is now a college graduate and ...    8.248895  ...   \n",
       "2  Under the direction of a ruthless instructor, ...   64.299990  ...   \n",
       "3  Vidya Bagchi (Vidya Balan) arrives in Kolkata ...    3.174936  ...   \n",
       "4  Marine Boy is the story of a former national s...    1.148070  ...   \n",
       "\n",
       "  release_date runtime                                   spoken_languages  \\\n",
       "0      2/20/15    93.0           [{'iso_639_1': 'en', 'name': 'English'}]   \n",
       "1       8/6/04   113.0           [{'iso_639_1': 'en', 'name': 'English'}]   \n",
       "2     10/10/14   105.0           [{'iso_639_1': 'en', 'name': 'English'}]   \n",
       "3       3/9/12   122.0  [{'iso_639_1': 'en', 'name': 'English'}, {'iso...   \n",
       "4       2/5/09   118.0           [{'iso_639_1': 'ko', 'name': '한국어/조선말'}]   \n",
       "\n",
       "     status                                            tagline  \\\n",
       "0  Released  The Laws of Space and Time are About to be Vio...   \n",
       "1  Released  It can take a lifetime to find true love; she'...   \n",
       "2  Released    The road to greatness can take you to the edge.   \n",
       "3  Released                                                NaN   \n",
       "4  Released                                                NaN   \n",
       "\n",
       "                                      title  \\\n",
       "0                    Hot Tub Time Machine 2   \n",
       "1  The Princess Diaries 2: Royal Engagement   \n",
       "2                                  Whiplash   \n",
       "3                                   Kahaani   \n",
       "4                                Marine Boy   \n",
       "\n",
       "                                            Keywords  \\\n",
       "0  [{'id': 4379, 'name': 'time travel'}, {'id': 9...   \n",
       "1  [{'id': 2505, 'name': 'coronation'}, {'id': 42...   \n",
       "2  [{'id': 1416, 'name': 'jazz'}, {'id': 1523, 'n...   \n",
       "3  [{'id': 10092, 'name': 'mystery'}, {'id': 1054...   \n",
       "4                                                NaN   \n",
       "\n",
       "                                                cast  \\\n",
       "0  [{'cast_id': 4, 'character': 'Lou', 'credit_id...   \n",
       "1  [{'cast_id': 1, 'character': 'Mia Thermopolis'...   \n",
       "2  [{'cast_id': 5, 'character': 'Andrew Neimann',...   \n",
       "3  [{'cast_id': 1, 'character': 'Vidya Bagchi', '...   \n",
       "4  [{'cast_id': 3, 'character': 'Chun-soo', 'cred...   \n",
       "\n",
       "                                                crew   revenue  \n",
       "0  [{'credit_id': '59ac067c92514107af02c8c8', 'de...  12314651  \n",
       "1  [{'credit_id': '52fe43fe9251416c7502563d', 'de...  95149435  \n",
       "2  [{'credit_id': '54d5356ec3a3683ba0000039', 'de...  13092000  \n",
       "3  [{'credit_id': '52fe48779251416c9108d6eb', 'de...  16000000  \n",
       "4  [{'credit_id': '52fe464b9251416c75073b43', 'de...   3923970  \n",
       "\n",
       "[5 rows x 23 columns]"
      ]
     },
     "execution_count": 10,
     "metadata": {},
     "output_type": "execute_result"
    }
   ],
   "source": [
    "#Import required packages\n",
    "import pandas as pd\n",
    "\n",
    "df = pd.read_csv(r'C:\\Users\\DELL\\Downloads\\07-04 Materials\\imdb_data.csv')\n",
    "df.head()"
   ]
  },
  {
   "cell_type": "code",
   "execution_count": 11,
   "metadata": {},
   "outputs": [
    {
     "name": "stdout",
     "output_type": "stream",
     "text": [
      "Index(['id', 'belongs_to_collection', 'budget', 'genres', 'homepage',\n",
      "       'imdb_id', 'original_language', 'original_title', 'overview',\n",
      "       'popularity', 'poster_path', 'production_companies',\n",
      "       'production_countries', 'release_date', 'runtime', 'spoken_languages',\n",
      "       'status', 'tagline', 'title', 'Keywords', 'cast', 'crew', 'revenue'],\n",
      "      dtype='object')\n"
     ]
    }
   ],
   "source": [
    "print(df.columns)\n"
   ]
  },
  {
   "cell_type": "code",
   "execution_count": null,
   "metadata": {
    "id": "mZ4nse2rDm-l"
   },
   "outputs": [
    {
     "name": "stdout",
     "output_type": "stream",
     "text": [
      "Movie with highest profit: Furious 7\n",
      "Producer: [{'name': 'Universal Pictures', 'id': 33}, {'name': 'Original Film', 'id': 333}, {'name': 'Fuji Television Network', 'id': 3341}, {'name': 'Dentsu', 'id': 6452}, {'name': 'One Race Films', 'id': 7154}, {'name': 'China Film Co.', 'id': 40890}, {'name': 'Québec Production Services Tax Credit', 'id': 86352}, {'name': 'Media Rights Capital (MRC)', 'id': 86655}, {'name': 'Abu Dhabi Film Commission', 'id': 87857}, {'name': 'Colorado Office of Film, Television & Media', 'id': 87858}]\n",
      "Director: [{'credit_id': '52fe4cc8c3a36847f823e681', 'department': 'Production', 'gender': 2, 'id': 12835, 'job': 'Producer', 'name': 'Vin Diesel', 'profile_path': '/7rwSXluNWZAluYMOEWBxkPmckES.jpg'}, {'credit_id': '52fe4cc8c3a36847f823e687', 'department': 'Production', 'gender': 2, 'id': 11874, 'job': 'Producer', 'name': 'Neal H. Moritz', 'profile_path': '/cNcsEYmoS4niCz3UkVAA09dUIob.jpg'}, {'credit_id': '52fe4cc8c3a36847f823e68d', 'department': 'Writing', 'gender': 2, 'id': 58191, 'job': 'Writer', 'name': 'Chris Morgan', 'profile_path': '/dUGxIwFBLrSFLImxjeda1krndMO.jpg'}, {'credit_id': '52fe4cc8c3a36847f823e693', 'department': 'Writing', 'gender': 0, 'id': 8162, 'job': 'Characters', 'name': 'Gary Scott Thompson', 'profile_path': '/e2dMfqFvRsOXgWZ1VToYLmos17y.jpg'}, {'credit_id': '52fe4cc8c3a36847f823e699', 'department': 'Directing', 'gender': 2, 'id': 2127, 'job': 'Director', 'name': 'James Wan', 'profile_path': '/d1LSKfzi5J6QngWS7niN1zPJdud.jpg'}, {'credit_id': '52fe4cc8c3a36847f823e6a7', 'department': 'Camera', 'gender': 2, 'id': 58192, 'job': 'Director of Photography', 'name': 'Stephen F. Windon', 'profile_path': None}, {'credit_id': '5534714692514125dc002be4', 'department': 'Visual Effects', 'gender': 0, 'id': 1455610, 'job': 'Animation', 'name': 'Tony Mecca', 'profile_path': None}, {'credit_id': '554fa7b992514110bd002a9d', 'department': 'Camera', 'gender': 0, 'id': 1421687, 'job': 'Director of Photography', 'name': 'Marc Spicer', 'profile_path': None}, {'credit_id': '554fa7cbc3a36822540047fd', 'department': 'Production', 'gender': 1, 'id': 90635, 'job': 'Executive Producer', 'name': 'Samantha Vincent', 'profile_path': None}, {'credit_id': '554fa7d89251413fcf00773d', 'department': 'Production', 'gender': 0, 'id': 84064, 'job': 'Associate Producer', 'name': 'F. Valentino Morales', 'profile_path': '/w85eCnNP0VgmfV5NWyq2SvRGi2y.jpg'}, {'credit_id': '554fa7f2c3a3682254004803', 'department': 'Production', 'gender': 2, 'id': 8181, 'job': 'Producer', 'name': 'Michael Fottrell', 'profile_path': None}, {'credit_id': '554fa80292514110bd002aa8', 'department': 'Production', 'gender': 0, 'id': 75826, 'job': 'Producer', 'name': 'Brandon Birtell', 'profile_path': None}, {'credit_id': '55ed993ac3a3682c62015607', 'department': 'Editing', 'gender': 0, 'id': 1204244, 'job': 'Editor', 'name': 'Leigh Folsom Boyd', 'profile_path': None}, {'credit_id': '55ed994cc3a3687d3b00d64c', 'department': 'Editing', 'gender': 0, 'id': 1204245, 'job': 'Editor', 'name': 'Dylan Highsmith', 'profile_path': None}, {'credit_id': '55ed995dc3a3682c5d016867', 'department': 'Editing', 'gender': 0, 'id': 62813, 'job': 'Editor', 'name': 'Kirk M. Morri', 'profile_path': None}, {'credit_id': '55ed99739251413e41014641', 'department': 'Editing', 'gender': 2, 'id': 6668, 'job': 'Editor', 'name': 'Christian Wagner', 'profile_path': None}, {'credit_id': '55ed99859251413e3a014aae', 'department': 'Production', 'gender': 1, 'id': 9545, 'job': 'Casting', 'name': 'Anne McCarthy', 'profile_path': None}, {'credit_id': '55ed99a4c3a3682c5d016875', 'department': 'Production', 'gender': 0, 'id': 1276602, 'job': 'Casting', 'name': 'Kellie Roy', 'profile_path': None}, {'credit_id': '55ed99c7c3a3682c5d01687e', 'department': 'Art', 'gender': 0, 'id': 1445830, 'job': 'Art Direction', 'name': 'Jonathan Carlos', 'profile_path': None}, {'credit_id': '55ed99d89251413e32014a65', 'department': 'Art', 'gender': 2, 'id': 62780, 'job': 'Art Direction', 'name': 'Alan Hook', 'profile_path': None}, {'credit_id': '55ed99e992514106d600d85e', 'department': 'Art', 'gender': 0, 'id': 1493864, 'job': 'Art Direction', 'name': 'Jay Pelissier', 'profile_path': None}, {'credit_id': '55ed9a36c3a3682c700147e3', 'department': 'Art', 'gender': 1, 'id': 1506359, 'job': 'Art Department Coordinator', 'name': 'Kelly Richardson', 'profile_path': None}, {'credit_id': '55ed9a52c3a3682c640130c3', 'department': 'Art', 'gender': 0, 'id': 1506360, 'job': 'Art Department Coordinator', 'name': 'Courtney Cocherell', 'profile_path': None}, {'credit_id': '55ed9a6cc3a368090c004f9c', 'department': 'Art', 'gender': 0, 'id': 1326651, 'job': 'Assistant Art Director', 'name': 'Elena Albanese', 'profile_path': None}, {'credit_id': '55ed9a96c3a3686f17003be1', 'department': 'Art', 'gender': 0, 'id': 1405376, 'job': 'Assistant Art Director', 'name': 'Alex McCarroll', 'profile_path': None}, {'credit_id': '55ed9acbc3a3682c640130e4', 'department': 'Art', 'gender': 0, 'id': 1338147, 'job': 'Construction Coordinator', 'name': 'Bruce Di Valerio', 'profile_path': None}, {'credit_id': '55ed9b03c3a3682c640130f5', 'department': 'Art', 'gender': 2, 'id': 52600, 'job': 'Production Design', 'name': 'Bill Brzeski', 'profile_path': None}, {'credit_id': '55ed9b169251413e2f0145a8', 'department': 'Art', 'gender': 1, 'id': 75391, 'job': 'Set Decoration', 'name': 'Danielle Berman', 'profile_path': None}, {'credit_id': '55ed9b29c3a3682c5d0168d9', 'department': 'Costume & Make-Up', 'gender': 1, 'id': 2519, 'job': 'Costume Design', 'name': 'Sanja Milkovic Hays', 'profile_path': None}, {'credit_id': '55ed9bdac3a3682c62015698', 'department': 'Costume & Make-Up', 'gender': 0, 'id': 1439109, 'job': 'Costume Supervisor', 'name': 'Nava R. Sadan', 'profile_path': None}, {'credit_id': '55ed9c0bc3a3686f17003c45', 'department': 'Costume & Make-Up', 'gender': 0, 'id': 1439747, 'job': 'Costume Supervisor', 'name': 'Andrew Hunt', 'profile_path': None}, {'credit_id': '55ed9c3192514106d600d8e0', 'department': 'Costume & Make-Up', 'gender': 0, 'id': 1506364, 'job': 'Set Costumer', 'name': 'Jim Alan Cook', 'profile_path': None}, {'credit_id': '55ed9c45c3a3682c5d016925', 'department': 'Costume & Make-Up', 'gender': 0, 'id': 1415019, 'job': 'Set Costumer', 'name': 'Shayne Allen Duhon', 'profile_path': None}, {'credit_id': '55ed9c579251413e32014af5', 'department': 'Costume & Make-Up', 'gender': 0, 'id': 1506365, 'job': 'Set Costumer', 'name': 'Empress Holley', 'profile_path': None}, {'credit_id': '55ed9c6d9251413e450148ff', 'department': 'Costume & Make-Up', 'gender': 0, 'id': 1413125, 'job': 'Set Costumer', 'name': 'Marina Marit', 'profile_path': None}, {'credit_id': '55ed9c8d92514106d600d8fb', 'department': 'Costume & Make-Up', 'gender': 0, 'id': 1506366, 'job': 'Set Costumer', 'name': 'Les Morgan', 'profile_path': None}, {'credit_id': '55ed9cda9251413e2f014612', 'department': 'Costume & Make-Up', 'gender': 0, 'id': 1408293, 'job': 'Hairstylist', 'name': 'Linda D. Flowers', 'profile_path': None}, {'credit_id': '55ed9cf69251413e2f01461d', 'department': 'Costume & Make-Up', 'gender': 0, 'id': 1412767, 'job': 'Hairstylist', 'name': \"Yesim 'Shimmy' Osman\", 'profile_path': None}, {'credit_id': '55ed9d0ec3a3687d3b00d73a', 'department': 'Costume & Make-Up', 'gender': 0, 'id': 1506367, 'job': 'Hairstylist', 'name': 'Jennifer Santiago', 'profile_path': None}, {'credit_id': '55ed9d2a9251413e3e0155d8', 'department': 'Costume & Make-Up', 'gender': 0, 'id': 1425409, 'job': 'Hairstylist', 'name': 'Rachel Solow', 'profile_path': None}, {'credit_id': '55ed9d4cc3a3682c620156ed', 'department': 'Costume & Make-Up', 'gender': 0, 'id': 1452643, 'job': 'Hairstylist', 'name': 'Roxane Griffin', 'profile_path': None}, {'credit_id': '55ed9d6fc3a3682c5d01696f', 'department': 'Costume & Make-Up', 'gender': 0, 'id': 1309209, 'job': 'Makeup Department Head', 'name': 'James MacKinnon', 'profile_path': None}, {'credit_id': '55ed9d8cc3a368090c00504f', 'department': 'Costume & Make-Up', 'gender': 0, 'id': 1506368, 'job': 'Makeup Artist', 'name': 'Autumn Butler', 'profile_path': None}, {'credit_id': '55ed9da09251413e3a014b98', 'department': 'Costume & Make-Up', 'gender': 0, 'id': 1437798, 'job': 'Makeup Artist', 'name': \"Roxy D'Alonzo\", 'profile_path': None}, {'credit_id': '55ed9db79251413e3a014ba5', 'department': 'Costume & Make-Up', 'gender': 0, 'id': 1506369, 'job': 'Makeup Artist', 'name': 'Hee Soo Kwon', 'profile_path': None}, {'credit_id': '55ed9dce9251413e32014b4e', 'department': 'Costume & Make-Up', 'gender': 1, 'id': 1459196, 'job': 'Makeup Artist', 'name': 'Sarah Mays', 'profile_path': None}, {'credit_id': '55ed9de4c3a3687d3b00d775', 'department': 'Costume & Make-Up', 'gender': 2, 'id': 15330, 'job': 'Makeup Artist', 'name': 'Paul Pattison', 'profile_path': None}, {'credit_id': '55ed9df99251413e3e015610', 'department': 'Costume & Make-Up', 'gender': 0, 'id': 1317667, 'job': 'Makeup Artist', 'name': 'Eleanor Sabaduquia', 'profile_path': None}, {'credit_id': '55ed9e1fc3a3687d3b00d77e', 'department': 'Crew', 'gender': 0, 'id': 1414497, 'job': 'Property Master', 'name': 'Guillaume DeLouche', 'profile_path': None}, {'credit_id': '55ed9e3ac3a368090c005084', 'department': 'Crew', 'gender': 0, 'id': 1464516, 'job': 'Property Master', 'name': 'Douglas T. Madison', 'profile_path': None}, {'credit_id': '55ed9f5d9251413e3e015662', 'department': 'Crew', 'gender': 2, 'id': 57158, 'job': 'Second Unit Cinematographer', 'name': 'Igor Meglic', 'profile_path': None}, {'credit_id': '55ed9fa0c3a3682c6401320f', 'department': 'Crew', 'gender': 0, 'id': 13670, 'job': 'Second Unit Cinematographer', 'name': 'Jacques Haitkin', 'profile_path': None}, {'credit_id': '55ed9fc59251413e32014bbc', 'department': 'Lighting', 'gender': 0, 'id': 1437304, 'job': 'Gaffer', 'name': 'Michael Ambrose', 'profile_path': None}, {'credit_id': '55ed9fe79251413e410147e4', 'department': 'Camera', 'gender': 0, 'id': 1506371, 'job': 'Camera Operator', 'name': 'Denise Bailie', 'profile_path': None}, {'credit_id': '55ed9ffa9251413e3a014c40', 'department': 'Camera', 'gender': 0, 'id': 1506373, 'job': 'Camera Operator', 'name': 'Robert-James Bova', 'profile_path': None}, {'credit_id': '55eda0299251413e3a014c49', 'department': 'Lighting', 'gender': 0, 'id': 1439108, 'job': 'Rigging Gaffer', 'name': 'Tom Fendley', 'profile_path': None}, {'credit_id': '55eda056c3a3682c7001494b', 'department': 'Camera', 'gender': 0, 'id': 1434896, 'job': 'Camera Operator', 'name': 'Sarah Levy', 'profile_path': None}, {'credit_id': '55eda06e9251413e450149ee', 'department': 'Camera', 'gender': 2, 'id': 74989, 'job': 'Camera Operator', 'name': 'Mark Emery Moore', 'profile_path': '/mhjX0FuAXv6SeSLLFHpaaiQbx6P.jpg'}, {'credit_id': '55eda082c3a3682c6b014009', 'department': 'Camera', 'gender': 2, 'id': 1432918, 'job': 'Camera Operator', 'name': 'Daniel Nichols', 'profile_path': None}, {'credit_id': '55eda09d9251413e3e01569d', 'department': 'Camera', 'gender': 0, 'id': 1439104, 'job': 'Camera Operator', 'name': 'Onofrio Nino Pansini', 'profile_path': None}, {'credit_id': '55eda0b59251413e3a014c6c', 'department': 'Camera', 'gender': 0, 'id': 1408356, 'job': 'Camera Operator', 'name': 'David Richert', 'profile_path': None}, {'credit_id': '55eda0d1c3a3686f17003d58', 'department': 'Camera', 'gender': 2, 'id': 1411271, 'job': 'Camera Operator', 'name': 'Michael J. Walker', 'profile_path': None}, {'credit_id': '55eda0f7c3a3687d3b00d81b', 'department': 'Camera', 'gender': 2, 'id': 1378241, 'job': 'Camera Operator', 'name': 'Maurice K. McGuire', 'profile_path': None}, {'credit_id': '55eda1159251413e3e0156bd', 'department': 'Camera', 'gender': 0, 'id': 1411842, 'job': 'Camera Operator', 'name': 'Richard Latham', 'profile_path': None}, {'credit_id': '55eda12c92514106d600da0a', 'department': 'Camera', 'gender': 0, 'id': 1404739, 'job': 'Helicopter Camera', 'name': 'Steve Koster', 'profile_path': None}, {'credit_id': '55eda1939251413e3501498d', 'department': 'Camera', 'gender': 0, 'id': 91122, 'job': 'Helicopter Camera', 'name': 'Dylan Goss', 'profile_path': None}, {'credit_id': '55eda1b39251413e3a014ca8', 'department': 'Camera', 'gender': 0, 'id': 82169, 'job': 'Steadicam Operator', 'name': 'Geoffrey Haley', 'profile_path': None}, {'credit_id': '55eda1c7c3a3686f17003d8c', 'department': 'Camera', 'gender': 0, 'id': 1419105, 'job': 'Still Photographer', 'name': 'Scott Garfield', 'profile_path': None}, {'credit_id': '55eda1dbc3a3686f17003d92', 'department': 'Camera', 'gender': 2, 'id': 1395281, 'job': 'Additional Camera', 'name': 'Bob Gorelick', 'profile_path': None}, {'credit_id': '55eda200c3a3682c5d016a8f', 'department': 'Camera', 'gender': 0, 'id': 1375920, 'job': 'Additional Camera', 'name': 'J. Christopher Campbell', 'profile_path': None}, {'credit_id': '55eda228c3a3682c64013295', 'department': 'Lighting', 'gender': 0, 'id': 1403412, 'job': 'Gaffer', 'name': 'Dan Cornwall', 'profile_path': None}, {'credit_id': '55eda25f92514106d600da4b', 'department': 'Visual Effects', 'gender': 0, 'id': 1442137, 'job': 'Animation Supervisor', 'name': 'Catherine Mullan', 'profile_path': None}, {'credit_id': '55eda292c3a3682c5d016ab2', 'department': 'Sound', 'gender': 0, 'id': 1393405, 'job': 'Music Editor', 'name': 'Robb Boyd', 'profile_path': None}, {'credit_id': '55eda2a9c3a3682c6b014075', 'department': 'Sound', 'gender': 0, 'id': 1328758, 'job': 'Music Editor', 'name': 'Matthew Llewellyn', 'profile_path': None}, {'credit_id': '55eda2c89251413e45014a6d', 'department': 'Directing', 'gender': 0, 'id': 1389138, 'job': 'Script Supervisor', 'name': 'Jody Blose', 'profile_path': None}, {'credit_id': '55eda305c3a3682c700149c1', 'department': 'Directing', 'gender': 0, 'id': 1408365, 'job': 'Script Supervisor', 'name': 'Brenda K. Wachel', 'profile_path': None}, {'credit_id': '55eda32dc3a3686f17003ddd', 'department': 'Crew', 'gender': 2, 'id': 8167, 'job': 'Thanks', 'name': 'Paul Walker', 'profile_path': '/iqvYezRoEY5k8wnlfHriHQfl5dX.jpg'}, {'credit_id': '55eda3b592514106d600da94', 'department': 'Editing', 'gender': 0, 'id': 1400354, 'job': 'Digital Intermediate', 'name': 'Amy Pawlowski', 'profile_path': None}, {'credit_id': '55eda3d792514106d600da9b', 'department': 'Editing', 'gender': 0, 'id': 110262, 'job': 'First Assistant Editor', 'name': 'Richard Conkling', 'profile_path': None}, {'credit_id': '55eda3edc3a3686f17003e0c', 'department': 'Editing', 'gender': 0, 'id': 1194885, 'job': 'First Assistant Editor', 'name': 'Dave  Cory', 'profile_path': None}, {'credit_id': '55eda4169251413e410148ec', 'department': 'Editing', 'gender': 0, 'id': 1439749, 'job': 'First Assistant Editor', 'name': 'Laura Steiger', 'profile_path': None}, {'credit_id': '55eda48092514106d600daba', 'department': 'Visual Effects', 'gender': 0, 'id': 1506377, 'job': 'Animation Supervisor', 'name': 'Daniel Barrett', 'profile_path': '/pplTJP3gCWmP3SMDrXjOt1579MV.jpg'}, {'credit_id': '55eda5109251413e32014cf0', 'department': 'Sound', 'gender': 0, 'id': 12562, 'job': 'ADR & Dubbing', 'name': 'Anna MacKenzie', 'profile_path': None}, {'credit_id': '55eda51ac3a3686f17003e52', 'department': 'Editing', 'gender': 0, 'id': 12562, 'job': 'Dialogue Editor', 'name': 'Anna MacKenzie', 'profile_path': None}, {'credit_id': '55eda539c3a368090c0051c2', 'department': 'Editing', 'gender': 0, 'id': 1342658, 'job': 'Dialogue Editor', 'name': 'Frederick H. Stahly', 'profile_path': None}, {'credit_id': '55eda56a9251413e45014adf', 'department': 'Sound', 'gender': 2, 'id': 1077782, 'job': 'Foley', 'name': 'Gary A. Hecker', 'profile_path': '/qyBUauN3XIS2Mlus3OdGCmrUo0S.jpg'}, {'credit_id': '55eda58292514106d600daf4', 'department': 'Sound', 'gender': 0, 'id': 1367362, 'job': 'Foley', 'name': 'Rick Owens', 'profile_path': None}, {'credit_id': '55eda59ac3a3682c5d016b50', 'department': 'Sound', 'gender': 0, 'id': 1236340, 'job': 'Foley', 'name': 'Dylan Tuomy-Wilhoit', 'profile_path': None}, {'credit_id': '55eda5b09251413e45014af1', 'department': 'Sound', 'gender': 0, 'id': 548445, 'job': 'Foley', 'name': 'Jeffrey Wilhoit', 'profile_path': None}, {'credit_id': '55eda7169251413e45014b3b', 'department': 'Sound', 'gender': 2, 'id': 7239, 'job': 'Sound Designer', 'name': 'Peter Brown', 'profile_path': None}, {'credit_id': '55eda73d9251413e4101498c', 'department': 'Sound', 'gender': 0, 'id': 1392083, 'job': 'Sound Designer', 'name': 'Ann Scibelli', 'profile_path': None}, {'credit_id': '55eda779c3a3682c70014abc', 'department': 'Sound', 'gender': 0, 'id': 1413453, 'job': 'Sound Effects Editor', 'name': 'Stephen P. Robinson', 'profile_path': None}, {'credit_id': '55eda7989251413e3e015838', 'department': 'Sound', 'gender': 0, 'id': 1394131, 'job': 'Sound Re-Recording Mixer', 'name': 'Jon Taylor', 'profile_path': None}, {'credit_id': '55eda7afc3a3686f17003ebf', 'department': 'Sound', 'gender': 0, 'id': 1394130, 'job': 'Sound Re-Recording Mixer', 'name': 'Frank A. Monta√±o', 'profile_path': None}, {'credit_id': '55eda7d79251413e32014e11', 'department': 'Sound', 'gender': 0, 'id': 1309884, 'job': 'Supervising Sound Editor', 'name': 'Joe Dzuban', 'profile_path': None}, {'credit_id': '570bd40dc3a36802a30002d9', 'department': 'Art', 'gender': 0, 'id': 1424153, 'job': 'Supervising Art Director', 'name': 'Desma Murphy', 'profile_path': None}, {'credit_id': '5668cc7a92514174040040f2', 'department': 'Sound', 'gender': 2, 'id': 6041, 'job': 'Original Music Composer', 'name': 'Brian Tyler', 'profile_path': '/22QWiNJj03amY6GT1QPUs7dbdcB.jpg'}, {'credit_id': '58ebe1fa925141281008e943', 'department': 'Production', 'gender': 2, 'id': 58191, 'job': 'Executive Producer', 'name': 'Chris Morgan', 'profile_path': '/dUGxIwFBLrSFLImxjeda1krndMO.jpg'}]\n",
      "Actors: [{'cast_id': 17, 'character': 'Dominic Toretto', 'credit_id': '5431dfd10e0a265915002c34', 'gender': 2, 'id': 12835, 'name': 'Vin Diesel', 'order': 0, 'profile_path': '/7rwSXluNWZAluYMOEWBxkPmckES.jpg'}, {'cast_id': 19, 'character': \"Brian O'Conner\", 'credit_id': '5431dfe4c3a3681143002b98', 'gender': 2, 'id': 8167, 'name': 'Paul Walker', 'order': 1, 'profile_path': '/iqvYezRoEY5k8wnlfHriHQfl5dX.jpg'}, {'cast_id': 18, 'character': 'Hobbs', 'credit_id': '5431dfdbc3a36831a6004376', 'gender': 2, 'id': 18918, 'name': 'Dwayne Johnson', 'order': 2, 'profile_path': '/kuqFzlYMc2IrsOyPznMd1FroeGq.jpg'}, {'cast_id': 20, 'character': 'Letty', 'credit_id': '5431dfeec3a36811ef002c75', 'gender': 1, 'id': 17647, 'name': 'Michelle Rodriguez', 'order': 3, 'profile_path': '/v37VK0MNuRuJOCKPKJcZAJXRA5r.jpg'}, {'cast_id': 28, 'character': 'Roman', 'credit_id': '5431e0310e0a2656e2002c95', 'gender': 2, 'id': 8169, 'name': 'Tyrese Gibson', 'order': 4, 'profile_path': '/a3tyF7QXgeEH0QuEuIzNZZ8oLNS.jpg'}, {'cast_id': 31, 'character': \"Tej (as Chris 'Ludacris' Bridges)\", 'credit_id': '5431e0520e0a2658b2002c3c', 'gender': 2, 'id': 8171, 'name': 'Ludacris', 'order': 5, 'profile_path': '/xLfq9wFO6dtYuUK96hbJ8I8EKFw.jpg'}, {'cast_id': 24, 'character': 'Mia', 'credit_id': '5431e00dc3a36811ef002c7e', 'gender': 1, 'id': 22123, 'name': 'Jordana Brewster', 'order': 6, 'profile_path': '/dORwXZWWmDgG66I5i2Fnr27g3fO.jpg'}, {'cast_id': 25, 'character': 'Jakande', 'credit_id': '5431e015c3a36831a90040da', 'gender': 2, 'id': 938, 'name': 'Djimon Hounsou', 'order': 7, 'profile_path': '/y22Pb0XAVqC0l7ukzKKtXzPEuHk.jpg'}, {'cast_id': 30, 'character': 'Kiet', 'credit_id': '5431e04a0e0a26464300432c', 'gender': 2, 'id': 57207, 'name': 'Tony Jaa', 'order': 8, 'profile_path': '/qq0uXKe3aKaAE04QQ0BvbbFFufF.jpg'}, {'cast_id': 21, 'character': 'Kara', 'credit_id': '5431dff40e0a2646490043fa', 'gender': 0, 'id': 997887, 'name': 'Ronda Rousey', 'order': 9, 'profile_path': '/5eGHTV1bLOdajC4Z3pnIdSiptSG.jpg'}, {'cast_id': 27, 'character': 'Ramsey', 'credit_id': '5431e026c3a36831ac004333', 'gender': 1, 'id': 1251069, 'name': 'Nathalie Emmanuel', 'order': 10, 'profile_path': '/yYiJwunH04doOZJgMu7qTZyrRYJ.jpg'}, {'cast_id': 22, 'character': 'Mr. Nobody', 'credit_id': '5431dffa0e0a265872002bdf', 'gender': 2, 'id': 6856, 'name': 'Kurt Russell', 'order': 11, 'profile_path': '/rlnFuNkisPpuypARI7QaGCmOY6V.jpg'}, {'cast_id': 16, 'character': 'Deckard Shaw', 'credit_id': '5431dfc70e0a265872002bd5', 'gender': 2, 'id': 976, 'name': 'Jason Statham', 'order': 12, 'profile_path': '/PhWiWgasncGWD9LdbsGcmxkV4r.jpg'}, {'cast_id': 39, 'character': 'Han', 'credit_id': '554fa75f92514110bd002a7d', 'gender': 2, 'id': 61697, 'name': 'Sung Kang', 'order': 13, 'profile_path': '/fqt53KEfHWsRDcbV2YAY2lKlKrM.jpg'}, {'cast_id': 38, 'character': 'Gisele', 'credit_id': '554fa7439251413e40005aa1', 'gender': 1, 'id': 90633, 'name': 'Gal Gadot', 'order': 14, 'profile_path': '/34kHAyBaBhq2kUrmhM15paEBuuI.jpg'}, {'cast_id': 15, 'character': 'Sean Boswell', 'credit_id': '5431dfbb0e0a265915002c2d', 'gender': 2, 'id': 155, 'name': 'Lucas Black', 'order': 15, 'profile_path': '/41qZZc6vRVm5ZOoXWfEf5NGoIZR.jpg'}, {'cast_id': 23, 'character': 'Elena', 'credit_id': '5431e003c3a36811ef002c7c', 'gender': 1, 'id': 73269, 'name': 'Elsa Pataky', 'order': 16, 'profile_path': '/c1km2kqasJT9GTISMbBZpp3jbuR.jpg'}, {'cast_id': 35, 'character': 'Hector', 'credit_id': '554fa677c3a3687b7d002468', 'gender': 2, 'id': 53252, 'name': 'Noel Gugliemi', 'order': 17, 'profile_path': '/mI5urNyZJAzIGxelTjBkm624DkB.jpg'}, {'cast_id': 37, 'character': 'Sheppard', 'credit_id': '554fa6f19251413ea10004fc', 'gender': 2, 'id': 222906, 'name': 'John Brotherton', 'order': 18, 'profile_path': '/sE73Zs4q8rugmrFnn9jv2wAEVrI.jpg'}, {'cast_id': 34, 'character': 'Owen Shaw', 'credit_id': '554fa651c3a3681870005275', 'gender': 2, 'id': 114019, 'name': 'Luke Evans', 'order': 19, 'profile_path': '/1d31uDYub8TaLOPWfgX78OotduD.jpg'}, {'cast_id': 36, 'character': 'Safar', 'credit_id': '554fa6d7c3a3685221000283', 'gender': 2, 'id': 492791, 'name': 'Ali Fazal', 'order': 20, 'profile_path': '/AmT132VCz3InJBAQQPJnqqgsQsB.jpg'}, {'cast_id': 145, 'character': 'Jack', 'credit_id': '59a8b72092514157c601fb92', 'gender': 0, 'id': 1880145, 'name': 'Miller Kimsey', 'order': 21, 'profile_path': None}, {'cast_id': 146, 'character': 'Jack', 'credit_id': '59a8b72b925141579d020797', 'gender': 0, 'id': 1880146, 'name': 'Charlie Kimsey', 'order': 22, 'profile_path': None}, {'cast_id': 133, 'character': 'Samantha Hobbs', 'credit_id': '56417cfec3a3685be2001846', 'gender': 1, 'id': 1533850, 'name': 'Eden Estrella', 'order': 23, 'profile_path': '/xxzcCrgD38jOyCRlbBA5ksfrN14.jpg'}, {'cast_id': 147, 'character': 'Letty Fan', 'credit_id': '59a8b787c3a36874d5007d12', 'gender': 2, 'id': 1534800, 'name': 'Gentry White', 'order': 24, 'profile_path': '/dzu9JUDSHDXrnit7ZlOnJuRJj1X.jpg'}, {'cast_id': 26, 'character': 'Female Racer', 'credit_id': '5431e01c0e0a265834002c97', 'gender': 1, 'id': 1364893, 'name': 'Iggy Azalea', 'order': 25, 'profile_path': '/KG5skDx5WeGDijkUUQnmOP0crG.jpg'}, {'cast_id': 148, 'character': 'Male Racer', 'credit_id': '59a8b7afc3a3683d0701b1ad', 'gender': 0, 'id': 1161711, 'name': 'Jon Lee Brody', 'order': 26, 'profile_path': '/u1agQE1nYgt2LOijksYJMPYxpKh.jpg'}, {'cast_id': 135, 'character': 'Race Starter', 'credit_id': '56c259c89251414a9b000865', 'gender': 1, 'id': 1578220, 'name': 'Levy Tran', 'order': 27, 'profile_path': '/iKcRuLRwmcuoD43E4X0YlYquYGD.jpg'}, {'cast_id': 132, 'character': 'Hot Teacher', 'credit_id': '56417cc592514128af001862', 'gender': 0, 'id': 118593, 'name': 'Anna Colwell', 'order': 28, 'profile_path': '/qerkK7Z26GttfJ8Sq6xMwhkYLq3.jpg'}, {'cast_id': 149, 'character': 'Doctor', 'credit_id': '59a8b80e92514157ab0206fc', 'gender': 0, 'id': 1880147, 'name': 'Viktor Hernandez', 'order': 29, 'profile_path': None}, {'cast_id': 150, 'character': 'Priest', 'credit_id': '59a8b84092514157c601fce8', 'gender': 2, 'id': 80619, 'name': 'Steve Coulter', 'order': 30, 'profile_path': '/v1cwS9Ia89pO154Wje3m4IxuI3.jpg'}, {'cast_id': 130, 'character': 'Merc Tech', 'credit_id': '56417c3092514128a6001a15', 'gender': 0, 'id': 97844, 'name': 'Robert Pralgo', 'order': 31, 'profile_path': '/iDPgSaDVhwIItvqa2Wn79oaUzf8.jpg'}, {'cast_id': 151, 'character': 'Weapons Tech', 'credit_id': '59a8b888c3a3683ce601e3aa', 'gender': 0, 'id': 1381712, 'name': 'Antwan Mills', 'order': 32, 'profile_path': '/58nvO2Se7TS0ETUEzHHjJ0MLH5U.jpg'}, {'cast_id': 152, 'character': 'Billionaire', 'credit_id': '59a8b8bac3a36874d5007ea3', 'gender': 0, 'id': 1880148, 'name': 'J.J. Phillips', 'order': 33, 'profile_path': None}, {'cast_id': 153, 'character': 'Dominican Priest', 'credit_id': '59a8b8ccc3a3683c8701fa73', 'gender': 0, 'id': 1880149, 'name': 'Jorge Ferragut', 'order': 34, 'profile_path': None}, {'cast_id': 154, 'character': 'Hana', 'credit_id': '59a8b8e3c3a36874d5007ec7', 'gender': 0, 'id': 1440699, 'name': 'Sara Sohn', 'order': 35, 'profile_path': '/8nfPK3sFpHzw0uu66LmTK9HcQ5G.jpg'}, {'cast_id': 155, 'character': 'Merc Driver (as Ben Blankenship)', 'credit_id': '59a8b904c3a3683c7a02381c', 'gender': 0, 'id': 1093707, 'name': 'Benjamin Blankenship', 'order': 36, 'profile_path': '/xl0O9d7xS6XGSRqQl16StOxtkOR.jpg'}, {'cast_id': 156, 'character': 'DJ', 'credit_id': '59a8b953c3a36876710081c2', 'gender': 0, 'id': 1880150, 'name': 'D.J. Hapa', 'order': 37, 'profile_path': None}, {'cast_id': 140, 'character': 'DJ', 'credit_id': '58eee68c92514142020018f0', 'gender': 0, 'id': 224092, 'name': 'T-Pain', 'order': 38, 'profile_path': None}, {'cast_id': 157, 'character': 'Drone Tech', 'credit_id': '59a8b98892514157ee01f2d9', 'gender': 2, 'id': 54792, 'name': 'Brian Mahoney', 'order': 39, 'profile_path': '/v6pTsqgOHE5TldFV63Kr44idQNe.jpg'}, {'cast_id': 131, 'character': 'Jasmine', 'credit_id': '56417c7b92514128a90018fb', 'gender': 1, 'id': 1128522, 'name': 'Brittney Alger', 'order': 40, 'profile_path': '/u1eKIGLkK2GTpqFArNxgAMTMhOj.jpg'}, {'cast_id': 158, 'character': 'Mando', 'credit_id': '59a8b9ad92514157ab020902', 'gender': 0, 'id': 1451616, 'name': 'Romeo Santos', 'order': 41, 'profile_path': '/lbt98DkUpRNoJXiFbXzQfhMIRt4.jpg'}, {'cast_id': 159, 'character': 'Advisor', 'credit_id': '59a8b9ca925141579d020ab6', 'gender': 1, 'id': 78804, 'name': 'Jocelin Donahue', 'order': 42, 'profile_path': '/eQXBzPjo9K8MG9TVOoQDNoHEFwv.jpg'}, {'cast_id': 160, 'character': 'Field Reporter', 'credit_id': '59a8b9da9251415808021296', 'gender': 0, 'id': 1880151, 'name': 'Stephanie Langston', 'order': 43, 'profile_path': None}, {'cast_id': 161, 'character': 'Cop', 'credit_id': '59a8b9f192514157a5020874', 'gender': 0, 'id': 1448173, 'name': 'Jorge-Luis Pallo', 'order': 44, 'profile_path': '/9cw97jnvm7SvnCTNBWZHXt4clfu.jpg'}, {'cast_id': 143, 'character': 'Leo (uncredited / archive)', 'credit_id': '58eee6b8925141423500180f', 'gender': 2, 'id': 96321, 'name': 'Tego Calder√≥n', 'order': 45, 'profile_path': '/pz7i7LV35XRC5Si8liRoYWdrcr0.jpg'}, {'cast_id': 142, 'character': 'Neela (uncredited / archive)', 'credit_id': '58eee6ab92514141ff001971', 'gender': 1, 'id': 116277, 'name': 'Nathalie Kelley', 'order': 46, 'profile_path': '/68xBLk7FvQ36v794LbOrMxeOJeQ.jpg'}, {'cast_id': 29, 'character': 'Twinkie (uncredited)', 'credit_id': '5431e03e0e0a265872002bf2', 'gender': 0, 'id': 58197, 'name': 'Shad Moss', 'order': 47, 'profile_path': '/A1rHY9B5R9cIQshClcJxBYINg1m.jpg'}, {'cast_id': 144, 'character': 'Santos (uncredited / archive)', 'credit_id': '58eee6c492514141f70019b8', 'gender': 0, 'id': 90634, 'name': 'Don Omar', 'order': 48, 'profile_path': '/f1INIG2TE9jXXp5A3gGJR9UkePK.jpg'}, {'cast_id': 141, 'character': 'Race Wars Racer (uncredited)', 'credit_id': '58eee698c3a36826510017dc', 'gender': 0, 'id': 1563213, 'name': 'Klement Tinaj', 'order': 49, 'profile_path': None}, {'cast_id': 139, 'character': \"Brian O'Conner (uncredited)\", 'credit_id': '58eee621c3a368265e001729', 'gender': 0, 'id': 1795034, 'name': 'Caleb Walker', 'order': 50, 'profile_path': None}, {'cast_id': 45, 'character': \"Brian O'Connor (uncredited)\", 'credit_id': '5589e3fd925141569c00003e', 'gender': 2, 'id': 1480862, 'name': 'Cody Walker', 'order': 51, 'profile_path': '/6InC9qPrftOqsRK9ALcKFLHXSLV.jpg'}]\n"
     ]
    }
   ],
   "source": [
    "df['profit'] = df['revenue'] - df['budget']  \n",
    "highest_profit_movie = df.loc[df['profit'].idxmax()]\n",
    "\n",
    "highest_profit_movie_name = highest_profit_movie['original_title']\n",
    "highest_profit_movie_producer = highest_profit_movie['production_companies']\n",
    "highest_profit_movie_director = highest_profit_movie['crew'] \n",
    "highest_profit_movie_actors = highest_profit_movie['cast'] \n",
    "\n",
    "print(f\"Movie with highest profit: {highest_profit_movie_name}\")\n",
    "print(f\"Producer: {highest_profit_movie_producer}\")\n",
    "print(f\"Director: {highest_profit_movie_director}\")\n",
    "print(f\"Actors: {highest_profit_movie_actors}\")\n",
    "\n"
   ]
  },
  {
   "cell_type": "code",
   "execution_count": 13,
   "metadata": {},
   "outputs": [
    {
     "name": "stdout",
     "output_type": "stream",
     "text": [
      "Language with highest average ROI: ar\n"
     ]
    }
   ],
   "source": [
    "df['ROI'] = df['revenue'] / df['budget']  \n",
    "average_ROI_by_language = df.groupby('original_language')['ROI'].mean()\n",
    "highest_ROI_language = average_ROI_by_language.idxmax()\n",
    "\n",
    "print(f\"Language with highest average ROI: {highest_ROI_language}\")"
   ]
  },
  {
   "cell_type": "code",
   "execution_count": null,
   "metadata": {},
   "outputs": [
    {
     "name": "stdout",
     "output_type": "stream",
     "text": [
      "Unique genres of movies: [\"[{'id': 35\" \" 'name': 'Comedy'}]\" \" 'name': 'Comedy'}\" \" {'id': 18\"\n",
      " \" 'name': 'Drama'}\" \" {'id': 10751\" \" 'name': 'Family'}\" \" {'id': 10749\"\n",
      " \" 'name': 'Romance'}]\" \"[{'id': 18\" \" 'name': 'Drama'}]\" \"[{'id': 53\"\n",
      " \" 'name': 'Thriller'}\" \"[{'id': 28\" \" 'name': 'Action'}\" \" {'id': 53\"\n",
      " \" 'name': 'Thriller'}]\" \"[{'id': 16\" \" 'name': 'Animation'}\" \" {'id': 12\"\n",
      " \" 'name': 'Adventure'}\" \" 'name': 'Family'}]\" \"[{'id': 27\"\n",
      " \" 'name': 'Horror'}\" \"[{'id': 99\" \" 'name': 'Documentary'}]\" \" {'id': 35\"\n",
      " \" {'id': 10402\" \" 'name': 'Music'}\" \" 'name': 'Adventure'}]\"\n",
      " \" 'name': 'Music'}]\" \" {'id': 80\" \" 'name': 'Crime'}]\" \" {'id': 878\"\n",
      " \" 'name': 'Science Fiction'}\" \" {'id': 9648\" \" 'name': 'Mystery'}]\"\n",
      " \" 'name': 'Crime'}\" \"[{'id': 12\" \" 'name': 'Science Fiction'}]\"\n",
      " \" {'id': 27\" \" 'name': 'Horror'}]\" \" 'name': 'Mystery'}\" \" {'id': 10769\"\n",
      " \" 'name': 'Foreign'}]\" \"[{'id': 80\" \" 'name': 'Animation'}]\"\n",
      " \"[{'id': 9648\" \"[{'id': 14\" \" 'name': 'Fantasy'}\" \" {'id': 28\"\n",
      " \"[{'id': 10752\" \" 'name': 'War'}\" \" {'id': 37\" \" 'name': 'Western'}]\"\n",
      " \" {'id': 99\" \" 'name': 'Romance'}\" \"[{'id': 878\" \"[{'id': 10749\"\n",
      " \" 'name': 'Action'}]\" \" {'id': 14\" \" 'name': 'Fantasy'}]\" \"[{'id': 10402\"\n",
      " \" {'id': 36\" \" 'name': 'History'}]\" \" 'name': 'History'}\" \" {'id': 10752\"\n",
      " \" 'name': 'War'}]\" \" {'id': 16\" \" 'name': 'Documentary'}\" \"[{'id': 37\"\n",
      " \" 'name': 'Western'}\" \" 'name': 'Foreign'}\" \"[{'id': 10751\" \"[{'id': 36\"\n",
      " \"[{'id': 10769\" \"[{'id': 10770\" \" 'name': 'TV Movie'}\"]\n"
     ]
    }
   ],
   "source": [
    "\n",
    "df['genres_list'] = df['genres'].apply(lambda x: x.split(\",\") if isinstance(x, str) else [])\n",
    "\n",
    "unique_genres = pd.Series([genre for sublist in df['genres_list'] for genre in sublist]).unique()\n",
    "\n",
    "print(\"Unique genres of movies:\", unique_genres)\n",
    "\n"
   ]
  },
  {
   "cell_type": "code",
   "execution_count": 18,
   "metadata": {},
   "outputs": [
    {
     "name": "stdout",
     "output_type": "stream",
     "text": [
      "                                      title  \\\n",
      "0                    Hot Tub Time Machine 2   \n",
      "1  The Princess Diaries 2: Royal Engagement   \n",
      "2                                  Whiplash   \n",
      "3                                   Kahaani   \n",
      "4                                Marine Boy   \n",
      "\n",
      "                                           producers          directors  \n",
      "0                                     [Andrew Panay]       [Steve Pink]  \n",
      "1  [Whitney Houston, Mario Iscovich, Debra Martin...   [Garry Marshall]  \n",
      "2  [David Lancaster, Michel Litvak, Jason Blum, H...  [Damien Chazelle]  \n",
      "3                                      [Sujoy Ghosh]      [Sujoy Ghosh]  \n",
      "4                                                 []   [Jong-seok Yoon]  \n",
      "producers\n",
      "Xavier Dolan      inf\n",
      "Xavier Catafal    inf\n",
      "Joel Freeman      inf\n",
      "Name: roi, dtype: float64\n"
     ]
    },
    {
     "name": "stderr",
     "output_type": "stream",
     "text": [
      "C:\\Users\\DELL\\AppData\\Local\\Temp\\ipykernel_2708\\1243859981.py:3: SettingWithCopyWarning: \n",
      "A value is trying to be set on a copy of a slice from a DataFrame.\n",
      "Try using .loc[row_indexer,col_indexer] = value instead\n",
      "\n",
      "See the caveats in the documentation: https://pandas.pydata.org/pandas-docs/stable/user_guide/indexing.html#returning-a-view-versus-a-copy\n",
      "  df_clean['roi'] = (df_clean['revenue'] - df_clean['budget']) / df_clean['budget']\n",
      "C:\\Users\\DELL\\AppData\\Local\\Temp\\ipykernel_2708\\1243859981.py:5: SettingWithCopyWarning: \n",
      "A value is trying to be set on a copy of a slice from a DataFrame.\n",
      "Try using .loc[row_indexer,col_indexer] = value instead\n",
      "\n",
      "See the caveats in the documentation: https://pandas.pydata.org/pandas-docs/stable/user_guide/indexing.html#returning-a-view-versus-a-copy\n",
      "  df_clean['producers'] = df_clean['crew'].apply(lambda x: [i.split(\"'name': '\")[-1].split(\"'\")[0] for i in x.split(\"{\") if \"'job': 'Producer'\" in i])\n",
      "C:\\Users\\DELL\\AppData\\Local\\Temp\\ipykernel_2708\\1243859981.py:6: SettingWithCopyWarning: \n",
      "A value is trying to be set on a copy of a slice from a DataFrame.\n",
      "Try using .loc[row_indexer,col_indexer] = value instead\n",
      "\n",
      "See the caveats in the documentation: https://pandas.pydata.org/pandas-docs/stable/user_guide/indexing.html#returning-a-view-versus-a-copy\n",
      "  df_clean['directors'] = df_clean['crew'].apply(lambda x: [i.split(\"'name': '\")[-1].split(\"'\")[0] for i in x.split(\"{\") if \"'job': 'Director'\" in i])\n"
     ]
    }
   ],
   "source": [
    "\n",
    "df_clean = df.dropna(subset=['crew', 'budget', 'revenue'])\n",
    "\n",
    "df_clean['roi'] = (df_clean['revenue'] - df_clean['budget']) / df_clean['budget']\n",
    "\n",
    "df_clean['producers'] = df_clean['crew'].apply(lambda x: [i.split(\"'name': '\")[-1].split(\"'\")[0] for i in x.split(\"{\") if \"'job': 'Producer'\" in i])\n",
    "df_clean['directors'] = df_clean['crew'].apply(lambda x: [i.split(\"'name': '\")[-1].split(\"'\")[0] for i in x.split(\"{\") if \"'job': 'Director'\" in i])\n",
    "\n",
    "producer_director_table = df_clean[['title', 'producers', 'directors']]\n",
    "\n",
    "df_exploded = df_clean.explode('producers')\n",
    "top_producers = df_exploded.groupby('producers')['roi'].mean().sort_values(ascending=False).head(3)\n",
    "\n",
    "print(producer_director_table.head())\n",
    "print(top_producers)\n"
   ]
  },
  {
   "cell_type": "code",
   "execution_count": null,
   "metadata": {},
   "outputs": [
    {
     "name": "stdout",
     "output_type": "stream",
     "text": [
      "{'Clint Eastwood': Series([], Name: count, dtype: int64), 'Ron Howard': Series([], Name: count, dtype: int64), 'Steven Spielberg': Series([], Name: count, dtype: int64)}\n"
     ]
    }
   ],
   "source": [
    "\n",
    "df['directors'] = df['crew'].apply(lambda x: [item.split(\"'name': '\")[-1].split(\"'\")[0] for item in x.split(\"{\") if \"'job': 'Director'\" in item] if isinstance(x, str) else [])\n",
    "df['actors'] = df['cast'].apply(lambda x: x if isinstance(x, list) else [])\n",
    "\n",
    "top_3_directors = pd.Series([director for sublist in df['directors'] for director in sublist]).value_counts().head(3).index\n",
    "\n",
    "preferred_actors = {director: pd.Series([actor for actors_list in df[df['directors'].apply(lambda x: director in x)]['actors'] for actor in actors_list]).value_counts().head(3)\n",
    "                    for director in top_3_directors}\n",
    "\n",
    "print(preferred_actors)\n",
    "\n"
   ]
  }
 ],
 "metadata": {
  "colab": {
   "provenance": []
  },
  "kernelspec": {
   "display_name": "Python 3",
   "language": "python",
   "name": "python3"
  },
  "language_info": {
   "codemirror_mode": {
    "name": "ipython",
    "version": 3
   },
   "file_extension": ".py",
   "mimetype": "text/x-python",
   "name": "python",
   "nbconvert_exporter": "python",
   "pygments_lexer": "ipython3",
   "version": "3.12.8"
  }
 },
 "nbformat": 4,
 "nbformat_minor": 1
}
