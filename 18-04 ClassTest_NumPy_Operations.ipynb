{
 "cells": [
  {
   "cell_type": "markdown",
   "metadata": {},
   "source": [
    "<h2><span style=\"color:red\">🚨 Run the below cell to install and import required packages</span></h2>\n"
   ]
  },
  {
   "cell_type": "code",
   "execution_count": 1,
   "metadata": {},
   "outputs": [
    {
     "name": "stdout",
     "output_type": "stream",
     "text": [
      "Processing c:\\users\\dell\\onedrive\\문서\\18-04 classtest_numpy_operations\\numpy_assignment_tests-0.1-py3-none-any.whl\n",
      "Installing collected packages: numpy-assignment-tests\n",
      "Successfully installed numpy-assignment-tests-0.1\n"
     ]
    },
    {
     "name": "stderr",
     "output_type": "stream",
     "text": [
      "\n",
      "[notice] A new release of pip is available: 24.3.1 -> 25.0.1\n",
      "[notice] To update, run: python.exe -m pip install --upgrade pip\n"
     ]
    }
   ],
   "source": [
    "!pip install numpy_assignment_tests-0.1-py3-none-any.whl --force-reinstall\n",
    "import numpy as np"
   ]
  },
  {
   "cell_type": "markdown",
   "metadata": {},
   "source": [
    "## 📝 **18th April NumPy Class Test - 45 Minute Duration**\n",
    "\n",
    "---\n",
    "\n",
    "### ✅ **Problem 1: Array Creation and Basic Operations**\n",
    "\n",
    "**Steps to solve:**\n",
    "\n",
    "1. Create a NumPy array of even numbers from 10 to 50 (inclusive).\n",
    "2. Multiply all elements of the array by 2 and store it in a new variable.\n",
    "3. Compute the sum of all elements in the doubled array.\n",
    "4. Reshape the doubled array into a 2D array with 5 rows and 4 columns.\n",
    "\n",
    "**Function Signature:**"
   ]
  },
  {
   "cell_type": "code",
   "execution_count": 23,
   "metadata": {},
   "outputs": [
    {
     "data": {
      "text/plain": [
       "(array([22, 26, 30, 34, 38, 42, 46, 50, 54, 58, 62, 66, 70, 74, 78, 82, 86,\n",
       "        90, 94, 98]),\n",
       " np.int64(1200),\n",
       " array([[22, 26, 30, 34],\n",
       "        [38, 42, 46, 50],\n",
       "        [54, 58, 62, 66],\n",
       "        [70, 74, 78, 82],\n",
       "        [86, 90, 94, 98]]))"
      ]
     },
     "execution_count": 23,
     "metadata": {},
     "output_type": "execute_result"
    }
   ],
   "source": [
    "\n",
    "def problem1():\n",
    "    arr = np.arange(11, 51, 2)\n",
    "\n",
    "    arr_doubled = arr * 2\n",
    "\n",
    "    total = np.sum(arr_doubled)\n",
    "\n",
    "    reshaped = arr_doubled.reshape(5, 4)\n",
    "\n",
    "    return arr_doubled, total, reshaped\n",
    "\n",
    "problem1()\n"
   ]
  },
  {
   "cell_type": "code",
   "execution_count": null,
   "metadata": {},
   "outputs": [],
   "source": []
  },
  {
   "cell_type": "code",
   "execution_count": 37,
   "metadata": {},
   "outputs": [],
   "source": [
    "\n",
    "\n",
    "def problem1():\n",
    "    arr = np.arange(10, 51, 2)  \n",
    "\n",
    "    arr_doubled = arr * 2\n",
    "\n",
    "    total = np.sum(arr_doubled)\n",
    "\n",
    "    reshaped = arr_doubled[:20].reshape(5, 4)\n",
    "\n",
    "    return arr_doubled, total, reshaped\n"
   ]
  },
  {
   "cell_type": "code",
   "execution_count": 38,
   "metadata": {},
   "outputs": [
    {
     "name": "stdout",
     "output_type": "stream",
     "text": [
      "[✔] Problem 1 Passed — Score: 20/20\n"
     ]
    }
   ],
   "source": [
    "try:\n",
    "    from numpy_assignment_tests import test\n",
    "    test.test_problem1(problem1)\n",
    "except:\n",
    "    print(\"Try Again!\")"
   ]
  },
  {
   "cell_type": "markdown",
   "metadata": {},
   "source": [
    "\n",
    "---\n",
    "\n",
    "### ✅ **Problem 2: Indexing and Slicing**\n",
    "\n",
    "**Steps to solve:**\n",
    "\n",
    "1. Create a 5x5 NumPy array with numbers from 1 to 25 (row-wise).\n",
    "2. Extract the 2nd and 4th rows (index 1 and 3).\n",
    "3. Extract the 3rd column (index 2).\n",
    "4. Extract a subarray from rows 2 to 4 and columns 2 to 5.\n",
    "\n",
    "**Function Signature:**"
   ]
  },
  {
   "cell_type": "code",
   "execution_count": 46,
   "metadata": {},
   "outputs": [
    {
     "data": {
      "text/plain": [
       "(array([[ 6,  7,  8,  9, 10],\n",
       "        [16, 17, 18, 19, 20]]),\n",
       " array([ 3,  8, 13, 18, 23]),\n",
       " array([[13, 14, 15],\n",
       "        [18, 19, 20],\n",
       "        [23, 24, 25]]))"
      ]
     },
     "execution_count": 46,
     "metadata": {},
     "output_type": "execute_result"
    }
   ],
   "source": [
    "def problem2():\n",
    "    arr = np.arange(1, 26).reshape(5, 5)\n",
    "    rows = arr[[1, 3], :]          \n",
    "    col = arr[:, 2]               \n",
    "    subarray = arr[2:5, 2:5]     \n",
    "\n",
    "    return rows, col, subarray\n",
    "\n",
    "problem2()\n"
   ]
  },
  {
   "cell_type": "code",
   "execution_count": null,
   "metadata": {},
   "outputs": [],
   "source": []
  },
  {
   "cell_type": "code",
   "execution_count": null,
   "metadata": {},
   "outputs": [],
   "source": []
  },
  {
   "cell_type": "code",
   "execution_count": 47,
   "metadata": {},
   "outputs": [
    {
     "name": "stdout",
     "output_type": "stream",
     "text": [
      "[✔] Problem 2 Passed — Score: 20/20\n"
     ]
    }
   ],
   "source": [
    "try:\n",
    "    from numpy_assignment_tests import test\n",
    "    test.test_problem2(problem2)\n",
    "except:\n",
    "    print(\"Try Again!\")"
   ]
  },
  {
   "cell_type": "markdown",
   "metadata": {},
   "source": [
    "---\n",
    "\n",
    "### ✅ **Problem 3: Boolean Masking and Conditional Operations**\n",
    "\n",
    "**Steps to solve:**\n",
    "\n",
    "1. Create a NumPy array of integers from 1 to 20.\n",
    "2. Use boolean masking to extract all numbers divisible by 3.\n",
    "3. Replace all numbers greater than 15 in the original array with -1.\n",
    "\n",
    "**Function Signature:**"
   ]
  },
  {
   "cell_type": "code",
   "execution_count": 54,
   "metadata": {},
   "outputs": [
    {
     "data": {
      "text/plain": [
       "(array([ 3,  6,  9, 12, 15, 18]),\n",
       " array([ 1,  2,  3,  4,  5,  6,  7,  8,  9, 10, 11, 12, 13, 14, 15, -1, -1,\n",
       "        -1, -1]))"
      ]
     },
     "execution_count": 54,
     "metadata": {},
     "output_type": "execute_result"
    }
   ],
   "source": [
    "def problem3():\n",
    "    arr=np.arange(1,20)\n",
    "    divisible_by_3=arr[arr%3==0]\n",
    "    replaced_array = np.where(arr > 15, -1, arr)\n",
    "    return divisible_by_3, replaced_array\n",
    "problem3()"
   ]
  },
  {
   "cell_type": "code",
   "execution_count": null,
   "metadata": {},
   "outputs": [],
   "source": []
  },
  {
   "cell_type": "code",
   "execution_count": null,
   "metadata": {},
   "outputs": [],
   "source": []
  },
  {
   "cell_type": "code",
   "execution_count": 55,
   "metadata": {},
   "outputs": [
    {
     "name": "stdout",
     "output_type": "stream",
     "text": [
      "[✔] Problem 3 Passed — Score: 20/20\n"
     ]
    }
   ],
   "source": [
    "try:\n",
    "    from numpy_assignment_tests import test\n",
    "    test.test_problem3(problem3)\n",
    "except:\n",
    "    print(\"Try Again!\")"
   ]
  },
  {
   "cell_type": "markdown",
   "metadata": {},
   "source": [
    "---\n",
    "\n",
    "### ✅ **Problem 4: Aggregate Functions and Axis Operations**\n",
    "\n",
    "**Steps to solve:**\n",
    "\n",
    "1. Create a 4x4 NumPy array with values from 1 to 16.\n",
    "2. Calculate the mean of each row.\n",
    "3. Calculate the sum of each column.\n",
    "\n",
    "**Function Signature:**"
   ]
  },
  {
   "cell_type": "code",
   "execution_count": 60,
   "metadata": {},
   "outputs": [
    {
     "data": {
      "text/plain": [
       "<function __main__.problem4()>"
      ]
     },
     "execution_count": 60,
     "metadata": {},
     "output_type": "execute_result"
    }
   ],
   "source": [
    "def problem4():\n",
    "    arr=np.arange(1,17).reshape(4,4)\n",
    "    row_means=np.mean(arr,axis=1)\n",
    "    col_sums=np.sum(arr,axis=0)\n",
    "    return row_means, col_sums\n",
    "problem4"
   ]
  },
  {
   "cell_type": "code",
   "execution_count": null,
   "metadata": {},
   "outputs": [],
   "source": []
  },
  {
   "cell_type": "code",
   "execution_count": null,
   "metadata": {},
   "outputs": [],
   "source": []
  },
  {
   "cell_type": "code",
   "execution_count": 61,
   "metadata": {},
   "outputs": [
    {
     "name": "stdout",
     "output_type": "stream",
     "text": [
      "[✔] Problem 4 Passed — Score: 20/20\n"
     ]
    }
   ],
   "source": [
    "try:\n",
    "    from numpy_assignment_tests import test\n",
    "    test.test_problem4(problem4)\n",
    "except:\n",
    "    print(\"Try Again!\")"
   ]
  },
  {
   "cell_type": "markdown",
   "metadata": {},
   "source": [
    "---\n",
    "\n",
    "### ✅ **Problem 5: Stacking and Splitting Arrays**\n",
    "\n",
    "**Steps to solve:**\n",
    "\n",
    "1. Create two NumPy arrays: `a = [1, 2, 3]`, `b = [4, 5, 6]`.\n",
    "2. Stack them vertically and horizontally.\n",
    "3. Split the horizontal stacked array into two equal parts.\n",
    "\n",
    "**Function Signature:**"
   ]
  },
  {
   "cell_type": "code",
   "execution_count": 62,
   "metadata": {},
   "outputs": [],
   "source": [
    "def problem5():\n",
    "    a=[1,2,3]\n",
    "    b=[4,5,6]\n",
    "    vstacked= np.vstack((a, b))  \n",
    "    hstacked = np.hstack((a, b))  \n",
    "\n",
    "    split_horizontal = np.split(hstacked , 2) \n",
    "\n",
    "    return vstacked, hstacked, split_horizontal"
   ]
  },
  {
   "cell_type": "code",
   "execution_count": null,
   "metadata": {},
   "outputs": [],
   "source": []
  },
  {
   "cell_type": "code",
   "execution_count": null,
   "metadata": {},
   "outputs": [],
   "source": []
  },
  {
   "cell_type": "code",
   "execution_count": 63,
   "metadata": {},
   "outputs": [
    {
     "name": "stdout",
     "output_type": "stream",
     "text": [
      "[✔] Problem 5 Passed — Score: 20/20\n"
     ]
    }
   ],
   "source": [
    "try:\n",
    "    from numpy_assignment_tests import test\n",
    "    test.test_problem5(problem5)\n",
    "except:\n",
    "    print(\"Try Again!\")"
   ]
  },
  {
   "cell_type": "markdown",
   "metadata": {},
   "source": [
    "<h3><span style=\"color:red\">🚨 Run the below cell to execute all test cases and get the final score</span></h3>\n"
   ]
  },
  {
   "cell_type": "code",
   "execution_count": 64,
   "metadata": {},
   "outputs": [
    {
     "name": "stdout",
     "output_type": "stream",
     "text": [
      "=== NumPy Assignment Evaluation ===\n",
      "[✔] Problem 1 Passed — Score: 20/20\n",
      "[✔] Problem 2 Passed — Score: 20/20\n",
      "[✔] Problem 3 Passed — Score: 20/20\n",
      "[✔] Problem 4 Passed — Score: 20/20\n",
      "[✔] Problem 5 Passed — Score: 20/20\n",
      "\n",
      "🏁 Final Score: 100/100\n"
     ]
    }
   ],
   "source": [
    "## DO NOT MODIFY ##\n",
    "try:\n",
    "    from numpy_assignment_tests import test\n",
    "    student_name = input(\"Enter your full name: \").strip()\n",
    "    test.run_all_tests({\n",
    "        \"problem1\": problem1,\n",
    "        \"problem2\": problem2,\n",
    "        \"problem3\": problem3,\n",
    "        \"problem4\": problem4,\n",
    "        \"problem5\": problem5\n",
    "    }, student_name)\n",
    "except:\n",
    "    print(\"Check again and complete all the questions completely!!\")"
   ]
  },
  {
   "cell_type": "code",
   "execution_count": null,
   "metadata": {},
   "outputs": [],
   "source": []
  }
 ],
 "metadata": {
  "colab": {
   "provenance": []
  },
  "kernelspec": {
   "display_name": "Python 3",
   "language": "python",
   "name": "python3"
  },
  "language_info": {
   "codemirror_mode": {
    "name": "ipython",
    "version": 3
   },
   "file_extension": ".py",
   "mimetype": "text/x-python",
   "name": "python",
   "nbconvert_exporter": "python",
   "pygments_lexer": "ipython3",
   "version": "3.12.8"
  }
 },
 "nbformat": 4,
 "nbformat_minor": 1
}
